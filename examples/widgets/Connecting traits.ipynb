{
 "metadata": {
  "name": ""
 },
 "nbformat": 3,
 "nbformat_minor": 0,
 "worksheets": [
  {
   "cells": [
    {
     "cell_type": "code",
     "collapsed": false,
     "input": [
      "from contextlib import contextmanager\n",
      "\n",
      "class Connect(object):\n",
      "    updating = False\n",
      "    def __init__(self, *args):\n",
      "        self.objects = args\n",
      "        for obj,attr in args:\n",
      "            obj.on_trait_change(self._update, attr)\n",
      "\n",
      "    @contextmanager\n",
      "    def _busy_updating(self):\n",
      "        self.updating = True\n",
      "        yield\n",
      "        self.updating = False\n",
      "\n",
      "    def _update(self, name, old, new):\n",
      "        if self.updating:\n",
      "            return\n",
      "        with self._busy_updating():\n",
      "            for obj,attr in self.objects:\n",
      "                setattr(obj, attr, new)\n",
      "    \n",
      "    def disconnect(self):\n",
      "        for obj,attr in self.objects:\n",
      "            obj.on_trait_change(self._update, attr, remove=True)"
     ],
     "language": "python",
     "metadata": {},
     "outputs": [],
     "prompt_number": 1
    },
    {
     "cell_type": "code",
     "collapsed": false,
     "input": [
      "from IPython.html.widgets import FloatRangeWidget\n",
      "from IPython.display import display\n",
      "f = FloatRangeWidget()\n",
      "f2 = FloatRangeWidget(view_name=\"FloatTextView\")\n",
      "f3 = FloatRangeWidget()\n",
      "\n",
      "c=Connect((f,'value'), (f2,'value'), (f3, 'min'))\n",
      "\n",
      "display(f)\n",
      "display(f2)\n",
      "display(f3)"
     ],
     "language": "python",
     "metadata": {},
     "outputs": [],
     "prompt_number": 2
    },
    {
     "cell_type": "code",
     "collapsed": false,
     "input": [
      "# Disconnect the connection c\n",
      "c.disconnect()"
     ],
     "language": "python",
     "metadata": {},
     "outputs": [],
     "prompt_number": 3
    },
    {
     "cell_type": "code",
     "collapsed": false,
     "input": [],
     "language": "python",
     "metadata": {},
     "outputs": []
    }
   ],
   "metadata": {}
  }
 ]
}